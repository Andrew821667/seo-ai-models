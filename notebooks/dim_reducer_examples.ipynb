{
 "cells": [
  {
   "cell_type": "markdown",
   "metadata": {},
   "source": [
    "# DimensionReducer Examples\n",
    "\n",
    "Этот notebook демонстрирует основные возможности модуля DimensionReducer для анализа и сжатия SEO-характеристик."
   ]
  },
  {
   "cell_type": "code",
   "execution_count": null,
   "metadata": {},
   "source": [
    "import sys\n",
    "sys.path.append('..')\n",
    "\n",
    "import torch\n",
    "import pandas as pd\n",
    "import numpy as np\n",
    "import matplotlib.pyplot as plt\n",
    "import seaborn as sns\n",
    "\n",
    "from models.dim_reducer.model import DimensionReducer\n",
    "from models.dim_reducer.inference import DimReducerInference\n",
    "from models.dim_reducer.features import SEOFeaturesExtractor\n",
    "from common.config.dim_reducer_config import DimReducerConfig"
   ]
  },
  {
   "cell_type": "markdown",
   "metadata": {},
   "source": [
    "## 1. Подготовка данных\n",
    "\n",
    "Создадим пример данных для демонстрации возможностей модуля."
   ]
  },
  {
   "cell_type": "code",
   "execution_count": null,
   "metadata": {},
   "source": [
    "# Пример текстов\n",
    "sample_texts = [\n",
    "    \"This is a sample text about SEO optimization and content marketing strategies.\",\n",
    "    \"Another example discussing digital marketing and website analytics.\",\n",
    "    \"Third sample text about search engine optimization techniques.\"\n",
    "]\n",
    "\n",
    "# Пример HTML\n",
    "sample_html = [\n",
    "    \"\"\"\n",
    "    <html>\n",
    "        <head>\n",
    "            <title>SEO Sample</title>\n",
    "            <meta name=\"description\" content=\"Sample description\">\n",
    "        </head>\n",
    "        <body>\n",
    "            <h1>Main Header</h1>\n",
    "            <p>Content here</p>\n",
    "        </body>\n",
    "    </html>\n",
    "    \"\"\"\n",
    "    for _ in range(3)\n",
    "]\n",
    "\n",
    "# Создаем DataFrame\n",
    "df = pd.DataFrame({\n",
    "    'text': sample_texts,\n",
    "    'html': sample_html\n",
    "})\n",
    "\n",
    "df.head()"
   ]
  },
  {
   "cell_type": "markdown",
   "metadata": {},
   "source": [
    "## 2. Извлечение SEO-характеристик\n",
    "\n",
    "Демонстрация работы с SEOFeaturesExtractor."
   ]
  },
  {
   "cell_type": "code",
   "execution_count": null,
   "metadata": {},
   "source": [
    "# Инициализация экстрактора\n",
    "extractor = SEOFeaturesExtractor()\n",
    "\n",
    "# Извлечение характеристик для первого текста\n",
    "features = extractor.extract_all_features(\n",
    "    df['text'].iloc[0],\n",
    "    df['html'].iloc[0]\n",
    ")\n",
    "\n",
    "# Вывод основных метрик\n",
    "print(\"Basic Metrics:\")\n",
    "metrics = {\n",
    "    k: v for k, v in features.items()\n",
    "    if isinstance(v, (int, float))\n",
    "}\n",
    "pd.Series(metrics)"
   ]
  },
  {
   "cell_type": "markdown",
   "metadata": {},
   "source": [
    "### Визуализация важности ключевых слов"
   ]
  },
  {
   "cell_type": "code",
   "execution_count": null,
   "metadata": {},
   "source": [
    "# Построение графика частот слов\n",
    "plt.figure(figsize=(12, 5))\n",
    "word_freq = pd.Series(features['word_frequencies'])\n",
    "word_freq.sort_values(ascending=True).plot(kind='barh')\n",
    "plt.title('Word Frequencies')\n",
    "plt.xlabel('Frequency')\n",
    "plt.tight_layout()"
   ]
  },
  {
   "cell_type": "markdown",
   "metadata": {},
   "source": [
    "## 3. Работа с моделью\n",
    "\n",
    "Демонстрация обучения и применения модели."
   ]
  },
  {
   "cell_type": "code",
   "execution_count": null,
   "metadata": {},
   "source": [
    "# Конфигурация\n",
    "config = DimReducerConfig(\n",
    "    input_dim=512,\n",
    "    hidden_dim=256,\n",
    "    latent_dim=128\n",
    ")\n",
    "\n",
    "# Создание модели\n",
    "model = DimensionReducer(config)\n",
    "\n",
    "# Создание тестовых данных\n",
    "test_input = torch.randn(5, config.input_dim)\n",
    "outputs = model(test_input)\n",
    "\n",
    "print(f\"Input shape: {test_input.shape}\")\n",
    "print(f\"Latent shape: {outputs['latent'].shape}\")\n",
    "print(f\"Reconstructed shape: {outputs['reconstructed'].shape}\")"
   ]
  },
  {
   "cell_type": "markdown",
   "metadata": {},
   "source": [
    "### Визуализация сжатого пространства"
   ]
  },
  {
   "cell_type": "code",
   "execution_count": null,
   "metadata": {},
   "source": [
    "# Создаем тепловую карту латентного пространства\n",
    "plt.figure(figsize=(10, 4))\n",
    "sns.heatmap(\n",
    "    outputs['latent'].detach().numpy(),\n",
    "    cmap='viridis',\n",
    "    xticklabels=10,\n",
    "    yticklabels=True\n",
    ")\n",
    "plt.title('Latent Space Heatmap')\n",
    "plt.xlabel('Latent Dimension')\n",
    "plt.ylabel('Sample')\n",
    "plt.tight_layout()"
   ]
  },
  {
   "cell_type": "markdown",
   "metadata": {},
   "source": [
    "## 4. Инференс\n",
    "\n",
    "Демонстрация применения обученной модели."
   ]
  },
  {
   "cell_type": "code",
   "execution_count": null,
   "metadata": {},
   "source": [
    "# Сохранение модели\n",
    "torch.save(model.state_dict(), 'temp_model.pt')\n",
    "\n",
    "# Инициализация инференса\n",
    "inference = DimReducerInference('temp_model.pt', config)\n",
    "\n",
    "# Обработка текста\n",
    "results = inference.process_text(df['text'].iloc[0])\n",
    "\n",
    "# Визуализация важности признаков\n",
    "plt.figure(figsize=(10, 4))\n",
    "plt.plot(results['feature_importance'])\n",
    "plt.title('Feature Importance')\n",
    "plt.xlabel('Feature Index')\n",
    "plt.ylabel('Importance Score')\n",
    "plt.grid(True)\n",
    "plt.tight_layout()"
   ]
  },
  {
   "cell_type": "markdown",
   "metadata": {},
   "source": [
    "## 5. Пакетная обработка\n",
    "\n",
    "Демонстрация обработки нескольких текстов."
   ]
  },
  {
   "cell_type": "code",
   "execution_count": null,
   "metadata": {},
   "source": [
    "# Пакетная обработка всех текстов\n",
    "batch_results = inference.batch_process(\n",
    "    test_input,\n",
    "    batch_size=2\n",
    ")\n",
    "\n",
    "# Визуализация результатов\n",
    "plt.figure(figsize=(12, 4))\n",
    "\n",
    "plt.subplot(1, 2, 1)\n",
    "plt.imshow(batch_results['latent_features'], aspect='auto')\n",
    "plt.title('Latent Features')\n",
    "plt.colorbar()\n",
    "\n",
    "plt.subplot(1, 2, 2)\n",
    "plt.plot(batch_results['feature_importance'])\n",
    "plt.title('Batch Feature Importance')\n",
    "plt.grid(True)\n",
    "\n",
    "plt.tight_layout()"
   ]
  }
 ],
 "metadata": {
  "kernelspec": {
   "display_name": "Python 3",
   "language": "python",
   "name": "python3"
  },
  "language_info": {
   "codemirror_mode": {
    "name": "ipython",
    "version": 3
   },
   "file_extension": ".py",
   "mimetype": "text/x-python",
   "name": "python",
   "nbconvert_exporter": "python",
   "pygments_lexer": "ipython3",
   "version": "3.8.0"
  }
 },
 "nbformat": 4,
 "nbformat_minor": 4
}
